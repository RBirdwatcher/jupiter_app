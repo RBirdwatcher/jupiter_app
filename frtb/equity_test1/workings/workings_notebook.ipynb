{
 "metadata": {
  "language_info": {
   "codemirror_mode": {
    "name": "ipython",
    "version": 3
   },
   "file_extension": ".py",
   "mimetype": "text/x-python",
   "name": "python",
   "nbconvert_exporter": "python",
   "pygments_lexer": "ipython3",
   "version": "3.8.11-final"
  },
  "orig_nbformat": 2,
  "kernelspec": {
   "name": "python381164bit381158289102990847938d22eff408a3d6b0",
   "display_name": "Python 3.8.11 64-bit ('3.8.11')"
  }
 },
 "nbformat": 4,
 "nbformat_minor": 2,
 "cells": [
  {
   "cell_type": "code",
   "execution_count": 1,
   "source": [
    "# import the required libraries\n",
    "import numpy as np\n",
    "\n",
    "import pandas as pd\n",
    "\n",
    "import json\n",
    "\n",
    "import math\n",
    "\n",
    "# Here we open the test file, the file directory location should be changed \n",
    "# to match its location\n",
    "with open(r'/workspace/jupiter_app/frtb/equity_test1/input data/input_json.json') as data_file:    \n",
    "    data = json.load(data_file)\n",
    "\n",
    "# we normalize the data to give it a flat structure\n",
    "dataframe1  = pd.json_normalize(data, 'data', ['date',  'name'], \n",
    "                    record_prefix='contract_')\n",
    "dataframe1.head()\n"
   ],
   "outputs": [
    {
     "output_type": "execute_result",
     "data": {
      "text/plain": [
       "  contract_id         contract_date contract_asset_class  \\\n",
       "0      swap_1  2017-01-17T00:00:00Z                   ir   \n",
       "1      swap_2  2017-01-17T00:00:00Z                   ir   \n",
       "2      swap_3  2017-01-17T00:00:00Z                   ir   \n",
       "3      swap_4  2017-01-17T00:00:00Z                   ir   \n",
       "4      swap_5  2017-01-17T00:00:00Z                   ir   \n",
       "\n",
       "  contract_currency_code     contract_end_date  contract_mtm_dirty  \\\n",
       "0                    USD  2019-01-17T00:00:00Z               -1500   \n",
       "1                    GBP  2019-01-17T00:00:00Z                1400   \n",
       "2                    GBP  2019-01-17T00:00:00Z                1400   \n",
       "3                    GBP  2017-06-17T00:00:00Z                1400   \n",
       "4                    GBP  2027-06-17T00:00:00Z                1400   \n",
       "\n",
       "   contract_notional_amount contract_payment_type contract_receive_type  \\\n",
       "0                     10000                 fixed              floating   \n",
       "1                     10500                 fixed              floating   \n",
       "2                     10500              floating                 fixed   \n",
       "3                     10500                 fixed              floating   \n",
       "4                     10500                 fixed              floating   \n",
       "\n",
       "    contract_start_date contract_type   contract_trade_date  \\\n",
       "0  2017-01-10T00:00:00Z  vanilla_swap  2017-01-10T00:00:00Z   \n",
       "1  2017-01-10T00:00:00Z  vanilla_swap  2017-01-10T00:00:00Z   \n",
       "2  2017-01-10T00:00:00Z  vanilla_swap  2017-01-10T00:00:00Z   \n",
       "3  2017-01-10T00:00:00Z  vanilla_swap  2017-01-10T00:00:00Z   \n",
       "4  2017-01-10T00:00:00Z  vanilla_swap  2017-01-10T00:00:00Z   \n",
       "\n",
       "    contract_value_date                  date              name  \n",
       "0  2017-01-16T00:00:00Z  2017-01-17T00:00:00Z  Derivatives Data  \n",
       "1  2017-01-16T00:00:00Z  2017-01-17T00:00:00Z  Derivatives Data  \n",
       "2  2017-01-16T00:00:00Z  2017-01-17T00:00:00Z  Derivatives Data  \n",
       "3  2017-01-16T00:00:00Z  2017-01-17T00:00:00Z  Derivatives Data  \n",
       "4  2017-01-16T00:00:00Z  2017-01-17T00:00:00Z  Derivatives Data  "
      ],
      "text/html": "<div>\n<style scoped>\n    .dataframe tbody tr th:only-of-type {\n        vertical-align: middle;\n    }\n\n    .dataframe tbody tr th {\n        vertical-align: top;\n    }\n\n    .dataframe thead th {\n        text-align: right;\n    }\n</style>\n<table border=\"1\" class=\"dataframe\">\n  <thead>\n    <tr style=\"text-align: right;\">\n      <th></th>\n      <th>contract_id</th>\n      <th>contract_date</th>\n      <th>contract_asset_class</th>\n      <th>contract_currency_code</th>\n      <th>contract_end_date</th>\n      <th>contract_mtm_dirty</th>\n      <th>contract_notional_amount</th>\n      <th>contract_payment_type</th>\n      <th>contract_receive_type</th>\n      <th>contract_start_date</th>\n      <th>contract_type</th>\n      <th>contract_trade_date</th>\n      <th>contract_value_date</th>\n      <th>date</th>\n      <th>name</th>\n    </tr>\n  </thead>\n  <tbody>\n    <tr>\n      <th>0</th>\n      <td>swap_1</td>\n      <td>2017-01-17T00:00:00Z</td>\n      <td>ir</td>\n      <td>USD</td>\n      <td>2019-01-17T00:00:00Z</td>\n      <td>-1500</td>\n      <td>10000</td>\n      <td>fixed</td>\n      <td>floating</td>\n      <td>2017-01-10T00:00:00Z</td>\n      <td>vanilla_swap</td>\n      <td>2017-01-10T00:00:00Z</td>\n      <td>2017-01-16T00:00:00Z</td>\n      <td>2017-01-17T00:00:00Z</td>\n      <td>Derivatives Data</td>\n    </tr>\n    <tr>\n      <th>1</th>\n      <td>swap_2</td>\n      <td>2017-01-17T00:00:00Z</td>\n      <td>ir</td>\n      <td>GBP</td>\n      <td>2019-01-17T00:00:00Z</td>\n      <td>1400</td>\n      <td>10500</td>\n      <td>fixed</td>\n      <td>floating</td>\n      <td>2017-01-10T00:00:00Z</td>\n      <td>vanilla_swap</td>\n      <td>2017-01-10T00:00:00Z</td>\n      <td>2017-01-16T00:00:00Z</td>\n      <td>2017-01-17T00:00:00Z</td>\n      <td>Derivatives Data</td>\n    </tr>\n    <tr>\n      <th>2</th>\n      <td>swap_3</td>\n      <td>2017-01-17T00:00:00Z</td>\n      <td>ir</td>\n      <td>GBP</td>\n      <td>2019-01-17T00:00:00Z</td>\n      <td>1400</td>\n      <td>10500</td>\n      <td>floating</td>\n      <td>fixed</td>\n      <td>2017-01-10T00:00:00Z</td>\n      <td>vanilla_swap</td>\n      <td>2017-01-10T00:00:00Z</td>\n      <td>2017-01-16T00:00:00Z</td>\n      <td>2017-01-17T00:00:00Z</td>\n      <td>Derivatives Data</td>\n    </tr>\n    <tr>\n      <th>3</th>\n      <td>swap_4</td>\n      <td>2017-01-17T00:00:00Z</td>\n      <td>ir</td>\n      <td>GBP</td>\n      <td>2017-06-17T00:00:00Z</td>\n      <td>1400</td>\n      <td>10500</td>\n      <td>fixed</td>\n      <td>floating</td>\n      <td>2017-01-10T00:00:00Z</td>\n      <td>vanilla_swap</td>\n      <td>2017-01-10T00:00:00Z</td>\n      <td>2017-01-16T00:00:00Z</td>\n      <td>2017-01-17T00:00:00Z</td>\n      <td>Derivatives Data</td>\n    </tr>\n    <tr>\n      <th>4</th>\n      <td>swap_5</td>\n      <td>2017-01-17T00:00:00Z</td>\n      <td>ir</td>\n      <td>GBP</td>\n      <td>2027-06-17T00:00:00Z</td>\n      <td>1400</td>\n      <td>10500</td>\n      <td>fixed</td>\n      <td>floating</td>\n      <td>2017-01-10T00:00:00Z</td>\n      <td>vanilla_swap</td>\n      <td>2017-01-10T00:00:00Z</td>\n      <td>2017-01-16T00:00:00Z</td>\n      <td>2017-01-17T00:00:00Z</td>\n      <td>Derivatives Data</td>\n    </tr>\n  </tbody>\n</table>\n</div>"
     },
     "metadata": {},
     "execution_count": 1
    }
   ],
   "metadata": {}
  },
  {
   "cell_type": "code",
   "execution_count": null,
   "metadata": {},
   "outputs": [],
   "source": []
  }
 ]
}